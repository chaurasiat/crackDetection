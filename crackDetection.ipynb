{
  "nbformat": 4,
  "nbformat_minor": 0,
  "metadata": {
    "colab": {
      "name": "crackDetection.ipynb",
      "version": "0.3.2",
      "provenance": []
    }
  },
  "cells": [
    {
      "metadata": {
        "id": "oFSWebspMdTT",
        "colab_type": "code",
        "colab": {
          "base_uri": "https://localhost:8080/",
          "height": 34
        },
        "outputId": "a2f19618-1f8c-4c82-a2ab-6484c61e73fe"
      },
      "cell_type": "code",
      "source": [
        "!ls"
      ],
      "execution_count": 6,
      "outputs": [
        {
          "output_type": "stream",
          "text": [
            "crackDetection.ipynb  README.md  trainingData\r\n"
          ],
          "name": "stdout"
        }
      ]
    },
    {
      "metadata": {
        "id": "qgtBzh92No4n",
        "colab_type": "code",
        "colab": {
          "base_uri": "https://localhost:8080/",
          "height": 102
        },
        "outputId": "79d7cd3e-acfe-419b-a9a2-67e697b94386"
      },
      "cell_type": "code",
      "source": [
        "! git clone https://github.com/chaurasiat/crackDetection.git\n"
      ],
      "execution_count": 2,
      "outputs": [
        {
          "output_type": "stream",
          "text": [
            "Cloning into 'crackDetection'...\n",
            "remote: Counting objects: 65, done.\u001b[K\n",
            "remote: Compressing objects: 100% (22/22), done.\u001b[K\n",
            "remote: Total 65 (delta 41), reused 62 (delta 41), pack-reused 0\u001b[K\n",
            "Unpacking objects: 100% (65/65), done.\n"
          ],
          "name": "stdout"
        }
      ]
    },
    {
      "metadata": {
        "id": "J7ryWL7ON8A0",
        "colab_type": "code",
        "colab": {}
      },
      "cell_type": "code",
      "source": [
        "import os\n",
        "os.chdir(\"crackDetection\")"
      ],
      "execution_count": 0,
      "outputs": []
    },
    {
      "metadata": {
        "id": "uEcSsiyFPHEf",
        "colab_type": "code",
        "colab": {}
      },
      "cell_type": "code",
      "source": [
        "import csv\n",
        "import matplotlib.image as mpimg\n",
        "import cv2\n",
        "import numpy as np\n",
        "import os\n",
        "import logging\n",
        "import glob"
      ],
      "execution_count": 0,
      "outputs": []
    },
    {
      "metadata": {
        "id": "UWC4uvSRPb2z",
        "colab_type": "code",
        "colab": {
          "base_uri": "https://localhost:8080/",
          "height": 34
        },
        "outputId": "976c57ba-0799-411d-80fa-c2a2aa3a3745"
      },
      "cell_type": "code",
      "source": [
        "from keras.models import Sequential\n",
        "from keras.layers import Flatten, Dense, Lambda, Dropout, Activation, Cropping2D\n",
        "from keras.layers.convolutional import Convolution2D\n",
        "from keras.layers.pooling import MaxPooling2D\n",
        "from sklearn.model_selection import train_test_split\n",
        "import sklearn"
      ],
      "execution_count": 8,
      "outputs": [
        {
          "output_type": "stream",
          "text": [
            "Using TensorFlow backend.\n"
          ],
          "name": "stderr"
        }
      ]
    },
    {
      "metadata": {
        "id": "RoPql6SsPih1",
        "colab_type": "code",
        "colab": {}
      },
      "cell_type": "code",
      "source": [
        "width = 58\n",
        "height = 58"
      ],
      "execution_count": 0,
      "outputs": []
    },
    {
      "metadata": {
        "id": "zgSA1NmsP1eo",
        "colab_type": "code",
        "colab": {
          "base_uri": "https://localhost:8080/",
          "height": 34
        },
        "outputId": "706f9ffd-6f42-4b46-8c9a-40a08b77402d"
      },
      "cell_type": "code",
      "source": [
        "crack   = glob.glob('trainingData/Crack/*.JPG') \n",
        "nonCrack   = glob.glob('trainingData/NonCrack/*.JPG')\n",
        "\n",
        "print(len(Crack), len(NonCrack))"
      ],
      "execution_count": 13,
      "outputs": [
        {
          "output_type": "stream",
          "text": [
            "(29, 24)\n"
          ],
          "name": "stdout"
        }
      ]
    },
    {
      "metadata": {
        "id": "MWbaqDgQQY4P",
        "colab_type": "code",
        "colab": {}
      },
      "cell_type": "code",
      "source": [
        "img_size=64\n",
        "def show3img(img, img1, img2):\n",
        "   plt.figure(figsize=(6, 2))\n",
        "   plt.subplot(1, 3, 1)\n",
        "   plt.imshow(img)\n",
        "   plt.title(\"Raw image\")\n",
        "   plt.subplot(1, 3, 2)\n",
        "   plt.imshow(img1)\n",
        "   plt.title(\"Processed image\")\n",
        "   plt.subplot(1, 3, 3)\n",
        "   plt.imshow(img2)\n",
        "   plt.title(\"Augmented image\")\n",
        "   plt.show()\n",
        "   \n",
        "def eq_Hist(img):\n",
        "   #Histogram Equalization\n",
        "   img2=img.copy()\n",
        "   img2[:, :, 0] = cv2.equalizeHist(img[:, :, 0])\n",
        "   img2[:, :, 1] = cv2.equalizeHist(img[:, :, 1])\n",
        "   img2[:, :, 2] = cv2.equalizeHist(img[:, :, 2])\n",
        "   return img2\n",
        "\n",
        "def scale_img(img):\n",
        "   img2=img.copy()\n",
        "   sc_y=0.4*np.random.rand()+1.0\n",
        "   img2=cv2.resize(img, None, fx=1, fy=sc_y, interpolation = cv2.INTER_CUBIC)\n",
        "   c_x,c_y, sh = int(img2.shape[0]/2), int(img2.shape[1]/2), int(img_size/2)\n",
        "   return img2\n",
        "\n",
        "def crop(img, mar=0):\n",
        "   c_x,c_y, sh = int(img.shape[0]/2), int(img.shape[1]/2), int(img_size/2-mar)\n",
        "   return img[(c_x-sh):(c_x+sh),(c_y-sh):(c_y+sh)]\n",
        "\n",
        "def rotate_img(img):\n",
        "   c_x,c_y = int(img.shape[0]/2), int(img.shape[1]/2)\n",
        "   ang = 30.0*np.random.rand()-15\n",
        "   Mat = cv2.getRotationMatrix2D((c_x, c_y), ang, 1.0)\n",
        "   return cv2.warpAffine(img, Mat, img.shape[:2])\n",
        "\n",
        "def sharpen_img(img):\n",
        "   gb = cv2.GaussianBlur(img, (7,7), 20.0)\n",
        "   return cv2.addWeighted(img, 2, gb, -1, 0)\n",
        "#Compute linear image transformation ing*s+m\n",
        "def lin_img(img,s=1.0,m=0.0):\n",
        "   img2=cv2.multiply(img, np.array([s]))\n",
        "   return cv2.add(img2, np.array([m]))\n",
        "\n",
        "#Change image contrast; s>1 - increase\n",
        "def contr_img(img, s=1.0):\n",
        "   m=127.0*(1.0-s)\n",
        "   return lin_img(img, s, m)\n",
        "\n",
        "def transform_img(img):\n",
        "   img2=sharpen_img(img)\n",
        "   img2=crop(img2,3)\n",
        "   img2=contr_img(img2, 1.5)\n",
        "   return eq_Hist(img2)\n",
        "\n",
        "def augment_img(img):\n",
        "   img=contr_img(img, 1.8*np.random.rand()+0.2)\n",
        "   img=rotate_img(img)\n",
        "   img=scale_img(img)\n",
        "   return transform_img(img)\n",
        "\n",
        "def random_warp(img):\n",
        "    \n",
        "    rows,cols,_ = img.shape\n",
        "\n",
        "    # random scaling coefficients\n",
        "    rndx = np.random.rand(3) - 0.5\n",
        "    rndx *= cols * 0.06   # this coefficient determines the degree of warping\n",
        "    rndy = np.random.rand(3) - 0.5\n",
        "    rndy *= rows * 0.06\n",
        "\n",
        "    # 3 starting points for transform, 1/4 way from edges\n",
        "    x1 = cols/4\n",
        "    x2 = 3*cols/4\n",
        "    y1 = rows/4\n",
        "    y2 = 3*rows/4\n",
        "\n",
        "    pts1 = np.float32([[y1,x1],\n",
        "                       [y2,x1],\n",
        "                       [y1,x2]])\n",
        "    pts2 = np.float32([[y1+rndy[0],x1+rndx[0]],\n",
        "                       [y2+rndy[1],x1+rndx[1]],\n",
        "                       [y1+rndy[2],x2+rndx[2]]])\n",
        "\n",
        "    M = cv2.getAffineTransform(pts1,pts2)\n",
        "\n",
        "    dst = cv2.warpAffine(img,M,(cols,rows))\n",
        "    \n",
        "    dst = dst[:,:,np.newaxis]\n",
        "    \n",
        "    return dst\n",
        "def random_brightness(img):\n",
        "    shifted = img + 1.0   # shift to (0,2) range\n",
        "    img_max_value = max(shifted.flatten())\n",
        "    max_coef = 2.0/img_max_value\n",
        "    min_coef = max_coef - 0.1\n",
        "    coef = np.random.uniform(min_coef, max_coef)\n",
        "    dst = shifted * coef - 1.0\n",
        "    return dst\n"
      ],
      "execution_count": 0,
      "outputs": []
    },
    {
      "metadata": {
        "id": "1G61msBWQrEX",
        "colab_type": "code",
        "colab": {
          "base_uri": "https://localhost:8080/",
          "height": 51
        },
        "outputId": "c84b9679-f86b-4d2c-f178-aea04660c0f7"
      },
      "cell_type": "code",
      "source": [
        "X_train_aug_crack = []\n",
        "y_train_aug = []\n",
        "for i in range(len(crack)):\n",
        "     img=mpimg.imread(crack[i])\n",
        "     img=cv2.resize(img, (58, 58))\n",
        "     X_train_aug_crack.append(img)\n",
        "     y_train_aug.append(1)\n",
        "     img = cv2.flip(img,1)\n",
        "     X_train_aug_crack.append(img)\n",
        "     y_train_aug.append(1)\n",
        "     img = rotate_img(img)\n",
        "     X_train_aug_crack.append(img)\n",
        "     y_train_aug.append(1)\n",
        "#      img=random_warp(img)\n",
        "#      X_train_aug_roots.append(img)\n",
        "#      y_train_aug.append(1)\n",
        "#      img=random_brightness(img)\n",
        "#      X_train_aug_roots.append(img)\n",
        "#      y_train_aug.append(1)\n",
        "    \n",
        "\n",
        "\n",
        "for i in range(len(nonCrack)):\n",
        "     img=mpimg.imread(nonCrack[i])\n",
        "     img=cv2.resize(img, (58, 58))\n",
        "     X_train_aug_crack.append(img)\n",
        "     y_train_aug.append(0)\n",
        "     img = cv2.flip(img,1)\n",
        "     X_train_aug_crack.append(img)\n",
        "     y_train_aug.append(0)\n",
        "     img = rotate_img(img)\n",
        "     X_train_aug_crack.append(img)\n",
        "     y_train_aug.append(0)\n",
        "#      img=random_warp(img)\n",
        "#      X_train_aug_roots.append(img)\n",
        "#      y_train_aug.append(0)\n",
        "#      img=random_brightness(img)\n",
        "#      X_train_aug_roots.append(img)\n",
        "#      y_train_aug.append(0)\n",
        "     \n",
        "\n",
        "   \n",
        "print(\"Total number of images in the augmented dataset = \", len(X_train_aug_crack))  \n",
        "print(len(y_train_aug))"
      ],
      "execution_count": 14,
      "outputs": [
        {
          "output_type": "stream",
          "text": [
            "('Total number of images in the augmented dataset = ', 159)\n",
            "159\n"
          ],
          "name": "stdout"
        }
      ]
    },
    {
      "metadata": {
        "id": "ecV1Bh7KSzbu",
        "colab_type": "code",
        "colab": {}
      },
      "cell_type": "code",
      "source": [
        "activation = 'relu'\n",
        "dropout = 1\n",
        "\n",
        "def model(dshape):\n",
        "    \n",
        "    seq_model = Sequential()\n",
        "\n",
        "    seq_model.add(BatchNormalization(input_shape=(dshape[0], dshape[1], dshape[2])))\n",
        "    seq_model.add(Conv2D(24, (5, 5), padding='valid',\n",
        "                  activation=activation, strides=(2, 2)))\n",
        "\n",
        "    seq_model.add(Conv2D(36, (5, 5), padding='valid', activation=activation, strides=(2, 2)))\n",
        "    seq_model.add(Dropout(0.6))\n",
        "    seq_model.add(Conv2D(48, (5, 5), padding='valid', activation=activation, strides=(2, 2)))\n",
        "    seq_model.add(Dropout(0.5))\n",
        "    seq_model.add(Conv2D(64, (3, 3), padding='valid', activation=activation))\n",
        "    seq_model.add(Dropout(0.4))\n",
        "    #seq_model.add(Conv2D(64, (3, 3), padding='valid', activation=activation))\n",
        "    seq_model.add(Flatten())\n",
        "    seq_model.add(Dropout(0.6))\n",
        "    seq_model.add(Dense(100, activation=activation))\n",
        "    seq_model.add(Dropout(0.2))\n",
        "    seq_model.add(Dense(50, activation=activation))\n",
        "    seq_model.add(Dropout(0.3))\n",
        "    seq_model.add(Dense(10, activation=activation))\n",
        "    seq_model.add(Dense(1, activation='sigmoid'))\n",
        "    seq_model.compile(loss='binary_crossentropy', optimizer=adam(), metrics=['accuracy'])\n",
        "    seq_model.summary()\n",
        "\n",
        "    return seq_model"
      ],
      "execution_count": 0,
      "outputs": []
    },
    {
      "metadata": {
        "id": "vPSQVKNPS_vu",
        "colab_type": "code",
        "colab": {}
      },
      "cell_type": "code",
      "source": [
        "from sklearn.utils import shuffle\n",
        "from keras.utils.data_utils import Sequence\n",
        "\n",
        "images, labels = shuffle(X_train_aug_crack, y_train_aug)"
      ],
      "execution_count": 0,
      "outputs": []
    },
    {
      "metadata": {
        "id": "uE7KJqKATF6p",
        "colab_type": "code",
        "colab": {
          "base_uri": "https://localhost:8080/",
          "height": 136
        },
        "outputId": "00e15f87-1318-4d47-fa26-4ea9a558cba9"
      },
      "cell_type": "code",
      "source": [
        "images = np.asarray(images)\n",
        "labels = np.asarray(labels)\n",
        "print(images.dtype, images.shape)\n",
        "print(type(images))\n",
        "print(labels)"
      ],
      "execution_count": 17,
      "outputs": [
        {
          "output_type": "stream",
          "text": [
            "(dtype('uint8'), (159, 58, 58, 3))\n",
            "<type 'numpy.ndarray'>\n",
            "[0 1 1 0 0 1 1 1 1 0 1 1 0 1 1 0 0 1 1 0 1 0 1 0 1 1 1 0 0 1 1 1 1 0 0 0 1\n",
            " 1 0 1 0 0 1 1 0 0 1 1 1 0 1 0 1 0 1 0 1 1 1 0 1 1 1 1 0 0 1 1 0 0 0 0 0 0\n",
            " 1 0 0 0 1 1 1 1 0 1 0 0 0 1 1 1 0 1 1 1 1 1 0 1 0 1 1 1 0 1 1 0 1 0 0 1 0\n",
            " 0 1 0 1 1 1 0 0 1 1 1 0 0 1 0 1 1 0 0 0 0 0 0 0 1 1 0 1 0 1 1 1 1 0 0 1 1\n",
            " 1 0 0 1 1 0 1 0 1 0 0]\n"
          ],
          "name": "stdout"
        }
      ]
    },
    {
      "metadata": {
        "id": "Mj4WE2KqTI4I",
        "colab_type": "code",
        "colab": {
          "base_uri": "https://localhost:8080/",
          "height": 680
        },
        "outputId": "d088bbcd-e3fb-4650-d0b0-bef87c6b3ab2"
      },
      "cell_type": "code",
      "source": [
        "from keras.models import Sequential\n",
        "from keras.layers import Dense, Flatten, Conv2D, Dropout\n",
        "from keras.layers.normalization import BatchNormalization\n",
        "from keras.optimizers import adam\n",
        "#from keras.utils.data_utils import Sequence\n",
        "\n",
        "keras_model = model((height, width, 3))"
      ],
      "execution_count": 18,
      "outputs": [
        {
          "output_type": "stream",
          "text": [
            "_________________________________________________________________\n",
            "Layer (type)                 Output Shape              Param #   \n",
            "=================================================================\n",
            "batch_normalization_1 (Batch (None, 58, 58, 3)         12        \n",
            "_________________________________________________________________\n",
            "conv2d_1 (Conv2D)            (None, 27, 27, 24)        1824      \n",
            "_________________________________________________________________\n",
            "conv2d_2 (Conv2D)            (None, 12, 12, 36)        21636     \n",
            "_________________________________________________________________\n",
            "dropout_1 (Dropout)          (None, 12, 12, 36)        0         \n",
            "_________________________________________________________________\n",
            "conv2d_3 (Conv2D)            (None, 4, 4, 48)          43248     \n",
            "_________________________________________________________________\n",
            "dropout_2 (Dropout)          (None, 4, 4, 48)          0         \n",
            "_________________________________________________________________\n",
            "conv2d_4 (Conv2D)            (None, 2, 2, 64)          27712     \n",
            "_________________________________________________________________\n",
            "dropout_3 (Dropout)          (None, 2, 2, 64)          0         \n",
            "_________________________________________________________________\n",
            "flatten_1 (Flatten)          (None, 256)               0         \n",
            "_________________________________________________________________\n",
            "dropout_4 (Dropout)          (None, 256)               0         \n",
            "_________________________________________________________________\n",
            "dense_1 (Dense)              (None, 100)               25700     \n",
            "_________________________________________________________________\n",
            "dropout_5 (Dropout)          (None, 100)               0         \n",
            "_________________________________________________________________\n",
            "dense_2 (Dense)              (None, 50)                5050      \n",
            "_________________________________________________________________\n",
            "dropout_6 (Dropout)          (None, 50)                0         \n",
            "_________________________________________________________________\n",
            "dense_3 (Dense)              (None, 10)                510       \n",
            "_________________________________________________________________\n",
            "dense_4 (Dense)              (None, 1)                 11        \n",
            "=================================================================\n",
            "Total params: 125,703\n",
            "Trainable params: 125,697\n",
            "Non-trainable params: 6\n",
            "_________________________________________________________________\n"
          ],
          "name": "stdout"
        }
      ]
    },
    {
      "metadata": {
        "id": "0KeL_KZ2TNdY",
        "colab_type": "code",
        "colab": {
          "base_uri": "https://localhost:8080/",
          "height": 3471
        },
        "outputId": "eca2b265-113b-45e0-e4c1-5bc419e0a55d"
      },
      "cell_type": "code",
      "source": [
        "keras_model.fit(images, labels, epochs=100, batch_size=32, verbose=1, shuffle=True, validation_split=0.15)"
      ],
      "execution_count": 19,
      "outputs": [
        {
          "output_type": "stream",
          "text": [
            "Train on 135 samples, validate on 24 samples\n",
            "Epoch 1/100\n",
            "135/135 [==============================] - 1s 9ms/step - loss: 0.7229 - acc: 0.5111 - val_loss: 0.6649 - val_acc: 0.5833\n",
            "Epoch 2/100\n",
            "135/135 [==============================] - 0s 4ms/step - loss: 0.6854 - acc: 0.5481 - val_loss: 0.6442 - val_acc: 0.5833\n",
            "Epoch 3/100\n",
            "135/135 [==============================] - 0s 4ms/step - loss: 0.7210 - acc: 0.5481 - val_loss: 0.6569 - val_acc: 0.6250\n",
            "Epoch 4/100\n",
            "135/135 [==============================] - 0s 4ms/step - loss: 0.6982 - acc: 0.5111 - val_loss: 0.6647 - val_acc: 0.7083\n",
            "Epoch 5/100\n",
            "135/135 [==============================] - 0s 4ms/step - loss: 0.7116 - acc: 0.5185 - val_loss: 0.6742 - val_acc: 0.7500\n",
            "Epoch 6/100\n",
            "135/135 [==============================] - 0s 4ms/step - loss: 0.6644 - acc: 0.5407 - val_loss: 0.6712 - val_acc: 0.6250\n",
            "Epoch 7/100\n",
            "135/135 [==============================] - 0s 4ms/step - loss: 0.6684 - acc: 0.5630 - val_loss: 0.6620 - val_acc: 0.6250\n",
            "Epoch 8/100\n",
            "135/135 [==============================] - 0s 4ms/step - loss: 0.6706 - acc: 0.5333 - val_loss: 0.6594 - val_acc: 0.6250\n",
            "Epoch 9/100\n",
            "135/135 [==============================] - 0s 4ms/step - loss: 0.6574 - acc: 0.5111 - val_loss: 0.6403 - val_acc: 0.6667\n",
            "Epoch 10/100\n",
            "135/135 [==============================] - 0s 4ms/step - loss: 0.6204 - acc: 0.5852 - val_loss: 0.6268 - val_acc: 0.7917\n",
            "Epoch 11/100\n",
            "135/135 [==============================] - 0s 4ms/step - loss: 0.6067 - acc: 0.5630 - val_loss: 0.6205 - val_acc: 0.6250\n",
            "Epoch 12/100\n",
            "135/135 [==============================] - 1s 4ms/step - loss: 0.6165 - acc: 0.5185 - val_loss: 0.5680 - val_acc: 0.8750\n",
            "Epoch 13/100\n",
            "135/135 [==============================] - 0s 4ms/step - loss: 0.5807 - acc: 0.6519 - val_loss: 0.5631 - val_acc: 0.8750\n",
            "Epoch 14/100\n",
            "135/135 [==============================] - 0s 4ms/step - loss: 0.5968 - acc: 0.6370 - val_loss: 0.5817 - val_acc: 0.8750\n",
            "Epoch 15/100\n",
            "135/135 [==============================] - 0s 4ms/step - loss: 0.5548 - acc: 0.6222 - val_loss: 0.5343 - val_acc: 1.0000\n",
            "Epoch 16/100\n",
            " 32/135 [======>.......................] - ETA: 0s - loss: 0.5464 - acc: 0.5938"
          ],
          "name": "stdout"
        },
        {
          "output_type": "stream",
          "text": [
            "135/135 [==============================] - 0s 4ms/step - loss: 0.5134 - acc: 0.7111 - val_loss: 0.4868 - val_acc: 0.8750\n",
            "Epoch 17/100\n",
            "135/135 [==============================] - 0s 4ms/step - loss: 0.4894 - acc: 0.7037 - val_loss: 0.4967 - val_acc: 0.9167\n",
            "Epoch 18/100\n",
            "135/135 [==============================] - 0s 4ms/step - loss: 0.4894 - acc: 0.8444 - val_loss: 0.5049 - val_acc: 0.8333\n",
            "Epoch 19/100\n",
            "135/135 [==============================] - 0s 4ms/step - loss: 0.4890 - acc: 0.8148 - val_loss: 0.5156 - val_acc: 0.9167\n",
            "Epoch 20/100\n",
            "135/135 [==============================] - 0s 4ms/step - loss: 0.4667 - acc: 0.8222 - val_loss: 0.4952 - val_acc: 0.8750\n",
            "Epoch 21/100\n",
            "135/135 [==============================] - 1s 4ms/step - loss: 0.4694 - acc: 0.8370 - val_loss: 0.5052 - val_acc: 0.9167\n",
            "Epoch 22/100\n",
            "135/135 [==============================] - 0s 4ms/step - loss: 0.4516 - acc: 0.9111 - val_loss: 0.4839 - val_acc: 0.8750\n",
            "Epoch 23/100\n",
            "135/135 [==============================] - 0s 4ms/step - loss: 0.4441 - acc: 0.8370 - val_loss: 0.4275 - val_acc: 1.0000\n",
            "Epoch 24/100\n",
            "135/135 [==============================] - 0s 4ms/step - loss: 0.4007 - acc: 0.8222 - val_loss: 0.4138 - val_acc: 0.8750\n",
            "Epoch 25/100\n",
            "135/135 [==============================] - 1s 4ms/step - loss: 0.3819 - acc: 0.9111 - val_loss: 0.3805 - val_acc: 0.9583\n",
            "Epoch 26/100\n",
            "135/135 [==============================] - 0s 4ms/step - loss: 0.3974 - acc: 0.8963 - val_loss: 0.3886 - val_acc: 0.9167\n",
            "Epoch 27/100\n",
            "135/135 [==============================] - 0s 4ms/step - loss: 0.3620 - acc: 0.9407 - val_loss: 0.3492 - val_acc: 1.0000\n",
            "Epoch 28/100\n",
            "135/135 [==============================] - 1s 4ms/step - loss: 0.3479 - acc: 0.8889 - val_loss: 0.3896 - val_acc: 0.9167\n",
            "Epoch 29/100\n",
            "135/135 [==============================] - 0s 4ms/step - loss: 0.3691 - acc: 0.8963 - val_loss: 0.4219 - val_acc: 0.8333\n",
            "Epoch 30/100\n",
            "135/135 [==============================] - 0s 4ms/step - loss: 0.3641 - acc: 0.9111 - val_loss: 0.4377 - val_acc: 0.7917\n",
            "Epoch 31/100\n",
            " 96/135 [====================>.........] - ETA: 0s - loss: 0.3862 - acc: 0.8125"
          ],
          "name": "stdout"
        },
        {
          "output_type": "stream",
          "text": [
            "135/135 [==============================] - 0s 4ms/step - loss: 0.3878 - acc: 0.8593 - val_loss: 0.4550 - val_acc: 0.8333\n",
            "Epoch 32/100\n",
            "135/135 [==============================] - 0s 4ms/step - loss: 0.3479 - acc: 0.8889 - val_loss: 0.4567 - val_acc: 0.7917\n",
            "Epoch 33/100\n",
            "135/135 [==============================] - 0s 4ms/step - loss: 0.3656 - acc: 0.9111 - val_loss: 0.4510 - val_acc: 0.8333\n",
            "Epoch 34/100\n",
            "135/135 [==============================] - 0s 4ms/step - loss: 0.3528 - acc: 0.8815 - val_loss: 0.4337 - val_acc: 0.7917\n",
            "Epoch 35/100\n",
            "135/135 [==============================] - 0s 4ms/step - loss: 0.2949 - acc: 0.9481 - val_loss: 0.3157 - val_acc: 0.9167\n",
            "Epoch 36/100\n",
            "135/135 [==============================] - 0s 4ms/step - loss: 0.3333 - acc: 0.8815 - val_loss: 0.3529 - val_acc: 0.8333\n",
            "Epoch 37/100\n",
            "135/135 [==============================] - 0s 4ms/step - loss: 0.2788 - acc: 0.9407 - val_loss: 0.3297 - val_acc: 0.8750\n",
            "Epoch 38/100\n",
            "135/135 [==============================] - 0s 4ms/step - loss: 0.2994 - acc: 0.9111 - val_loss: 0.3099 - val_acc: 0.8750\n",
            "Epoch 39/100\n",
            "135/135 [==============================] - 0s 4ms/step - loss: 0.2520 - acc: 0.9333 - val_loss: 0.3001 - val_acc: 0.8333\n",
            "Epoch 40/100\n",
            "135/135 [==============================] - 0s 4ms/step - loss: 0.3159 - acc: 0.9111 - val_loss: 0.2960 - val_acc: 0.8750\n",
            "Epoch 41/100\n",
            "135/135 [==============================] - 0s 4ms/step - loss: 0.3114 - acc: 0.8889 - val_loss: 0.4479 - val_acc: 0.7500\n",
            "Epoch 42/100\n",
            "135/135 [==============================] - 0s 4ms/step - loss: 0.2969 - acc: 0.8815 - val_loss: 0.4202 - val_acc: 0.8333\n",
            "Epoch 43/100\n",
            "135/135 [==============================] - 0s 4ms/step - loss: 0.3008 - acc: 0.8667 - val_loss: 0.2738 - val_acc: 0.8333\n",
            "Epoch 44/100\n",
            "135/135 [==============================] - 0s 4ms/step - loss: 0.2747 - acc: 0.9111 - val_loss: 0.3484 - val_acc: 0.7917\n",
            "Epoch 45/100\n",
            "135/135 [==============================] - 0s 4ms/step - loss: 0.2350 - acc: 0.9259 - val_loss: 0.2825 - val_acc: 0.9167\n",
            "Epoch 46/100\n",
            " 96/135 [====================>.........] - ETA: 0s - loss: 0.2186 - acc: 0.9375"
          ],
          "name": "stdout"
        },
        {
          "output_type": "stream",
          "text": [
            "135/135 [==============================] - 0s 4ms/step - loss: 0.2314 - acc: 0.9259 - val_loss: 0.2768 - val_acc: 0.9167\n",
            "Epoch 47/100\n",
            "135/135 [==============================] - 0s 4ms/step - loss: 0.2090 - acc: 0.9333 - val_loss: 0.2317 - val_acc: 0.8750\n",
            "Epoch 48/100\n",
            "135/135 [==============================] - 0s 4ms/step - loss: 0.3407 - acc: 0.9037 - val_loss: 0.3604 - val_acc: 0.8333\n",
            "Epoch 49/100\n",
            "135/135 [==============================] - 0s 4ms/step - loss: 0.2131 - acc: 0.9111 - val_loss: 0.2626 - val_acc: 0.9167\n",
            "Epoch 50/100\n",
            "135/135 [==============================] - 0s 4ms/step - loss: 0.2581 - acc: 0.8963 - val_loss: 0.1244 - val_acc: 1.0000\n",
            "Epoch 51/100\n",
            "135/135 [==============================] - 0s 4ms/step - loss: 0.1812 - acc: 0.9185 - val_loss: 0.2550 - val_acc: 0.8750\n",
            "Epoch 52/100\n",
            "135/135 [==============================] - 0s 4ms/step - loss: 0.1652 - acc: 0.9407 - val_loss: 0.3585 - val_acc: 0.8750\n",
            "Epoch 53/100\n",
            "135/135 [==============================] - 0s 4ms/step - loss: 0.2116 - acc: 0.9333 - val_loss: 0.2789 - val_acc: 0.8333\n",
            "Epoch 54/100\n",
            "135/135 [==============================] - 0s 4ms/step - loss: 0.1542 - acc: 0.9556 - val_loss: 0.2006 - val_acc: 0.8750\n",
            "Epoch 55/100\n",
            "135/135 [==============================] - 0s 4ms/step - loss: 0.1965 - acc: 0.9481 - val_loss: 0.4077 - val_acc: 0.7917\n",
            "Epoch 56/100\n",
            "135/135 [==============================] - 0s 4ms/step - loss: 0.2238 - acc: 0.9259 - val_loss: 0.1981 - val_acc: 0.9583\n",
            "Epoch 57/100\n",
            "135/135 [==============================] - 0s 4ms/step - loss: 0.1544 - acc: 0.9556 - val_loss: 0.3368 - val_acc: 0.8750\n",
            "Epoch 58/100\n",
            "135/135 [==============================] - 0s 4ms/step - loss: 0.1749 - acc: 0.9259 - val_loss: 0.2094 - val_acc: 0.9167\n",
            "Epoch 59/100\n",
            "135/135 [==============================] - 0s 4ms/step - loss: 0.1728 - acc: 0.9407 - val_loss: 0.1575 - val_acc: 0.9583\n",
            "Epoch 60/100\n",
            "135/135 [==============================] - 0s 4ms/step - loss: 0.1643 - acc: 0.9481 - val_loss: 0.1387 - val_acc: 0.9583\n",
            "Epoch 61/100\n",
            " 96/135 [====================>.........] - ETA: 0s - loss: 0.0838 - acc: 0.9792"
          ],
          "name": "stdout"
        },
        {
          "output_type": "stream",
          "text": [
            "135/135 [==============================] - 0s 4ms/step - loss: 0.1557 - acc: 0.9556 - val_loss: 0.0918 - val_acc: 0.9583\n",
            "Epoch 62/100\n",
            "135/135 [==============================] - 0s 4ms/step - loss: 0.0882 - acc: 0.9778 - val_loss: 0.1669 - val_acc: 0.9167\n",
            "Epoch 63/100\n",
            "135/135 [==============================] - 0s 4ms/step - loss: 0.0941 - acc: 0.9852 - val_loss: 0.0931 - val_acc: 0.9583\n",
            "Epoch 64/100\n",
            "135/135 [==============================] - 0s 4ms/step - loss: 0.2234 - acc: 0.9333 - val_loss: 0.1522 - val_acc: 0.9583\n",
            "Epoch 65/100\n",
            "135/135 [==============================] - 1s 4ms/step - loss: 0.1519 - acc: 0.9407 - val_loss: 0.6185 - val_acc: 0.7083\n",
            "Epoch 66/100\n",
            "135/135 [==============================] - 0s 4ms/step - loss: 0.2676 - acc: 0.8963 - val_loss: 0.3731 - val_acc: 0.8333\n",
            "Epoch 67/100\n",
            "135/135 [==============================] - 0s 4ms/step - loss: 0.3205 - acc: 0.8519 - val_loss: 0.2706 - val_acc: 0.8750\n",
            "Epoch 68/100\n",
            "135/135 [==============================] - 0s 4ms/step - loss: 0.2534 - acc: 0.9037 - val_loss: 0.1557 - val_acc: 0.9583\n",
            "Epoch 69/100\n",
            "135/135 [==============================] - 0s 4ms/step - loss: 0.1749 - acc: 0.9407 - val_loss: 0.2590 - val_acc: 0.9167\n",
            "Epoch 70/100\n",
            "135/135 [==============================] - 0s 4ms/step - loss: 0.1042 - acc: 0.9407 - val_loss: 0.1638 - val_acc: 0.9583\n",
            "Epoch 71/100\n",
            "135/135 [==============================] - 0s 4ms/step - loss: 0.1707 - acc: 0.9111 - val_loss: 0.2071 - val_acc: 0.9583\n",
            "Epoch 72/100\n",
            "135/135 [==============================] - 0s 4ms/step - loss: 0.1608 - acc: 0.9556 - val_loss: 0.1423 - val_acc: 0.9167\n",
            "Epoch 73/100\n",
            "135/135 [==============================] - 0s 4ms/step - loss: 0.2036 - acc: 0.9111 - val_loss: 0.1117 - val_acc: 0.9583\n",
            "Epoch 74/100\n",
            "135/135 [==============================] - 0s 4ms/step - loss: 0.1374 - acc: 0.9630 - val_loss: 0.2220 - val_acc: 0.9167\n",
            "Epoch 75/100\n",
            "135/135 [==============================] - 0s 4ms/step - loss: 0.1511 - acc: 0.9481 - val_loss: 0.0823 - val_acc: 0.9583\n",
            "Epoch 76/100\n",
            " 96/135 [====================>.........] - ETA: 0s - loss: 0.0742 - acc: 0.9792"
          ],
          "name": "stdout"
        },
        {
          "output_type": "stream",
          "text": [
            "135/135 [==============================] - 0s 4ms/step - loss: 0.0791 - acc: 0.9778 - val_loss: 0.1399 - val_acc: 0.9583\n",
            "Epoch 77/100\n",
            "135/135 [==============================] - 0s 4ms/step - loss: 0.0724 - acc: 0.9852 - val_loss: 0.1749 - val_acc: 0.9167\n",
            "Epoch 78/100\n",
            "135/135 [==============================] - 0s 4ms/step - loss: 0.0821 - acc: 0.9630 - val_loss: 0.0612 - val_acc: 1.0000\n",
            "Epoch 79/100\n",
            "135/135 [==============================] - 0s 4ms/step - loss: 0.0752 - acc: 0.9778 - val_loss: 0.0844 - val_acc: 1.0000\n",
            "Epoch 80/100\n",
            "135/135 [==============================] - 0s 4ms/step - loss: 0.0996 - acc: 0.9704 - val_loss: 0.1934 - val_acc: 0.9167\n",
            "Epoch 81/100\n",
            "135/135 [==============================] - 0s 4ms/step - loss: 0.1609 - acc: 0.9333 - val_loss: 0.1230 - val_acc: 0.9583\n",
            "Epoch 82/100\n",
            "135/135 [==============================] - 0s 4ms/step - loss: 0.0507 - acc: 0.9852 - val_loss: 0.1342 - val_acc: 0.9167\n",
            "Epoch 83/100\n",
            "135/135 [==============================] - 0s 4ms/step - loss: 0.1073 - acc: 0.9556 - val_loss: 0.2781 - val_acc: 0.9167\n",
            "Epoch 84/100\n",
            "135/135 [==============================] - 0s 4ms/step - loss: 0.1109 - acc: 0.9556 - val_loss: 0.0263 - val_acc: 1.0000\n",
            "Epoch 85/100\n",
            "135/135 [==============================] - 0s 4ms/step - loss: 0.0829 - acc: 0.9704 - val_loss: 0.0975 - val_acc: 0.9583\n",
            "Epoch 86/100\n",
            "135/135 [==============================] - 0s 4ms/step - loss: 0.1039 - acc: 0.9556 - val_loss: 0.1558 - val_acc: 0.9583\n",
            "Epoch 87/100\n",
            "135/135 [==============================] - 0s 4ms/step - loss: 0.0943 - acc: 0.9704 - val_loss: 0.1454 - val_acc: 0.9583\n",
            "Epoch 88/100\n",
            "135/135 [==============================] - 0s 4ms/step - loss: 0.0687 - acc: 0.9704 - val_loss: 0.0932 - val_acc: 0.9583\n",
            "Epoch 89/100\n",
            "135/135 [==============================] - 0s 4ms/step - loss: 0.0827 - acc: 0.9778 - val_loss: 0.1251 - val_acc: 0.9583\n",
            "Epoch 90/100\n",
            "135/135 [==============================] - 0s 4ms/step - loss: 0.1037 - acc: 0.9630 - val_loss: 0.1955 - val_acc: 0.9167\n",
            "Epoch 91/100\n",
            " 96/135 [====================>.........] - ETA: 0s - loss: 0.0492 - acc: 0.9792"
          ],
          "name": "stdout"
        },
        {
          "output_type": "stream",
          "text": [
            "135/135 [==============================] - 0s 4ms/step - loss: 0.1342 - acc: 0.9556 - val_loss: 0.2518 - val_acc: 0.9167\n",
            "Epoch 92/100\n",
            "135/135 [==============================] - 0s 4ms/step - loss: 0.1000 - acc: 0.9481 - val_loss: 0.5269 - val_acc: 0.7917\n",
            "Epoch 93/100\n",
            "135/135 [==============================] - 0s 4ms/step - loss: 0.1087 - acc: 0.9630 - val_loss: 0.6479 - val_acc: 0.7500\n",
            "Epoch 94/100\n",
            "135/135 [==============================] - 0s 4ms/step - loss: 0.1129 - acc: 0.9704 - val_loss: 0.8361 - val_acc: 0.7500\n",
            "Epoch 95/100\n",
            "135/135 [==============================] - 0s 4ms/step - loss: 0.1603 - acc: 0.9259 - val_loss: 0.2563 - val_acc: 0.9167\n",
            "Epoch 96/100\n",
            "135/135 [==============================] - 0s 4ms/step - loss: 0.1510 - acc: 0.9407 - val_loss: 0.6391 - val_acc: 0.8333\n",
            "Epoch 97/100\n",
            "135/135 [==============================] - 0s 4ms/step - loss: 0.1246 - acc: 0.9704 - val_loss: 0.2387 - val_acc: 0.8750\n",
            "Epoch 98/100\n",
            "135/135 [==============================] - 0s 4ms/step - loss: 0.0754 - acc: 0.9704 - val_loss: 0.0382 - val_acc: 1.0000\n",
            "Epoch 99/100\n",
            "135/135 [==============================] - 0s 4ms/step - loss: 0.1273 - acc: 0.9481 - val_loss: 0.4183 - val_acc: 0.9167\n",
            "Epoch 100/100\n",
            "135/135 [==============================] - 0s 4ms/step - loss: 0.1212 - acc: 0.9630 - val_loss: 0.5809 - val_acc: 0.7917\n"
          ],
          "name": "stdout"
        },
        {
          "output_type": "execute_result",
          "data": {
            "text/plain": [
              "<keras.callbacks.History at 0x7f35bffdbc90>"
            ]
          },
          "metadata": {
            "tags": []
          },
          "execution_count": 19
        }
      ]
    },
    {
      "metadata": {
        "id": "QIYY9IZeTRGx",
        "colab_type": "code",
        "colab": {}
      },
      "cell_type": "code",
      "source": [
        "def  save_keras_model (save_model, path):\n",
        "    \"\"\"Save keras model to given path.\"\"\"\n",
        "    save_model.save_weights(path + 'model.h5')\n",
        "\n",
        "    with open(path + 'model.json', \"w\") as text_file:\n",
        "        text_file.write(save_model.to_json())\n",
        "\n",
        "    logging.info('Keras json model saved. %s', path + 'model.json')\n",
        "    logging.info('Keras h5 model saved. %s', path + 'model.h5')"
      ],
      "execution_count": 0,
      "outputs": []
    },
    {
      "metadata": {
        "id": "br96wYgsTjsA",
        "colab_type": "code",
        "colab": {}
      },
      "cell_type": "code",
      "source": [
        "save_keras_model(keras_model, 'keras')"
      ],
      "execution_count": 0,
      "outputs": []
    },
    {
      "metadata": {
        "id": "8x5HSO8zTm8F",
        "colab_type": "code",
        "colab": {}
      },
      "cell_type": "code",
      "source": [
        "from keras.models import model_from_json\n",
        "model_path = 'kerasmodel'\n",
        "\n",
        "inf_model = model_from_json(open(model_path + '.json','r').read())\n",
        "inf_model.load_weights(model_path + '.h5')"
      ],
      "execution_count": 0,
      "outputs": []
    },
    {
      "metadata": {
        "id": "mcl7b-u4TrvJ",
        "colab_type": "code",
        "colab": {
          "base_uri": "https://localhost:8080/",
          "height": 34
        },
        "outputId": "daffd465-d196-45ee-fc78-1bc64cec0c51"
      },
      "cell_type": "code",
      "source": [
        "im = mpimg.imread( \"trainingData/NonCrack/Capture1.JPG\")\n",
        "im = cv2.resize(im,(58,58))\n",
        "print( round(inf_model.predict(np.expand_dims(im, 0))[0, 0]))"
      ],
      "execution_count": 24,
      "outputs": [
        {
          "output_type": "stream",
          "text": [
            "0.0\n"
          ],
          "name": "stdout"
        }
      ]
    },
    {
      "metadata": {
        "id": "G5xp94ZCUBWf",
        "colab_type": "code",
        "colab": {}
      },
      "cell_type": "code",
      "source": [
        "def find_roots(img, ystart, ystop, scale, pix_per_cell,cell_per_block):#, svc, X_scaler, orient, pix_per_cell, cell_per_block,color_space,spatial_size, hist_bins):\n",
        "    \n",
        "    boxes=[]\n",
        "  \n",
        "    draw_img = np.copy(img)\n",
        "#     img = img.astype(np.float32)/255\n",
        "    \n",
        "    img_tosearch = img[ystart:ystop,:,:]\n",
        "#     ctrans_tosearch = hp.convert_color(img_tosearch, conv=color_space)\n",
        "    ctrans_tosearch = img_tosearch\n",
        "    if scale != 1:\n",
        "        imshape = ctrans_tosearch.shape\n",
        "        ctrans_tosearch = cv2.resize(ctrans_tosearch, (np.int(imshape[1]/scale), np.int(imshape[0]/scale)))\n",
        "        \n",
        "    ch1 = ctrans_tosearch[:,:,0]\n",
        "    ch2 = ctrans_tosearch[:,:,1]\n",
        "    ch3 = ctrans_tosearch[:,:,2]\n",
        "\n",
        "    # Define blocks and steps as above\n",
        "    nxblocks = (ch1.shape[1] // pix_per_cell) - cell_per_block + 1\n",
        "    nyblocks = (ch1.shape[0] // pix_per_cell) - cell_per_block + 1 \n",
        "#     nfeat_per_block = orient*cell_per_block**2\n",
        "    \n",
        "    # 64 was the orginal sampling rate, with 8 cells and 8 pix per cell\n",
        "    window = 64\n",
        "    nblocks_per_window = (window // pix_per_cell) - cell_per_block + 1\n",
        "    cells_per_step = 2  # Instead of overlap, define how many cells to step\n",
        "    nxsteps = (nxblocks - nblocks_per_window) // cells_per_step + 1\n",
        "    nysteps = (nyblocks - nblocks_per_window) // cells_per_step + 1\n",
        "    print(nxsteps)\n",
        "    \n",
        "#     # Compute individual channel HOG features for the entire image\n",
        "#     hog1 = get_hog_features(ch1, orient, pix_per_cell, cell_per_block, feature_vec=False)\n",
        "#     hog2 = get_hog_features(ch2, orient, pix_per_cell, cell_per_block, feature_vec=False)\n",
        "#     hog3 = get_hog_features(ch3, orient, pix_per_cell, cell_per_block, feature_vec=False)\n",
        "    \n",
        "    for xb in range(nxsteps):\n",
        "        for yb in range(nysteps):\n",
        "            ypos = yb*cells_per_step\n",
        "            xpos = xb*cells_per_step\n",
        "            # Extract HOG for this patch\n",
        "#             hog_feat1 = hog1[ypos:ypos+nblocks_per_window, xpos:xpos+nblocks_per_window].ravel() \n",
        "#             hog_feat2 = hog2[ypos:ypos+nblocks_per_window, xpos:xpos+nblocks_per_window].ravel() \n",
        "#             hog_feat3 = hog3[ypos:ypos+nblocks_per_window, xpos:xpos+nblocks_per_window].ravel() \n",
        "           \n",
        "#             hog_features = np.hstack((hog_feat1, hog_feat2, hog_feat3))\n",
        "            xleft = xpos*pix_per_cell\n",
        "            ytop = ypos*pix_per_cell\n",
        "\n",
        "            # Extract the image patch\n",
        "            subimg = cv2.resize(ctrans_tosearch[ytop:ytop+window, xleft:xleft+window], (58,58))\n",
        "#             plt.imshow(subimg)\n",
        "#             plt.show\n",
        "            # Get color features\n",
        "#             spatial_features = hp.bin_spatial(subimg, size=spatial_size)\n",
        "#             hist_features = hp.color_hist(subimg, nbins=hist_bins)\n",
        "\n",
        "            # Scale features and make a prediction\n",
        "#             test_features = X_scaler.transform(np.hstack((spatial_features, hog_features)).reshape(1, -1))    \n",
        "            #test_features = X_scaler.transform(np.hstack((shape_feat, hist_feat)).reshape(1, -1))    \n",
        "#             test_features = X_scaler.transform(np.hstack((hog_features)).reshape(1, -1))  \n",
        "            test_prediction = round(inf_model.predict(np.expand_dims(subimg, 0))[0, 0])\n",
        "#             print(test_prediction)\n",
        "#             test_prediction = svc.predict(test_features)\n",
        "            \n",
        "            if test_prediction == 1.0:\n",
        "                xbox_left = np.int(xleft*scale)\n",
        "                ytop_draw = np.int(ytop*scale)\n",
        "                win_draw = np.int(window*scale)\n",
        "                boxes.append(((xbox_left, ytop_draw+ystart),(xbox_left+win_draw,ytop_draw+win_draw+ystart)))\n",
        "                #boxes.append(((xbox_left, ytop_draw+ystart),(xbox_left+win_draw,ytop_draw+win_draw+ystart))#,(0,0,255),6)) \n",
        "                #cv2.rectangle(draw_img,(xbox_left, ytop_draw+ystart),(xbox_left+win_draw,ytop_draw+win_draw+ystart),(0,0,255),6) \n",
        "                \n",
        "    return boxes"
      ],
      "execution_count": 0,
      "outputs": []
    },
    {
      "metadata": {
        "id": "Cl4DLdqXUgTR",
        "colab_type": "code",
        "colab": {}
      },
      "cell_type": "code",
      "source": [
        "def draw_boxes(img, bboxes, color=(0, 0, 255), thick=6):\n",
        "    # make a copy of the image\n",
        "    draw_img = np.copy(img)\n",
        "    # draw each bounding box on your image copy using cv2.rectangle()\n",
        "    # return the image copy with boxes drawn\n",
        "    for box in bboxes:\n",
        "        cv2.rectangle(draw_img,box[0],box[1],color,thick)\n",
        "    \n",
        "    return draw_img # Change this line to return image copy with boxes"
      ],
      "execution_count": 0,
      "outputs": []
    },
    {
      "metadata": {
        "id": "rbaOC0pqUi_L",
        "colab_type": "code",
        "colab": {
          "base_uri": "https://localhost:8080/",
          "height": 401
        },
        "outputId": "5e5043ff-e622-416b-9c3a-d1b6f8b416b8"
      },
      "cell_type": "code",
      "source": [
        "import matplotlib.pyplot as plt\n",
        "ystart = 30\n",
        "ystop = 50\n",
        "scale = 3\n",
        "pix_per_cell=8\n",
        "cell_per_block=2\n",
        "test_images=glob.glob('trainingData/Crack/Capture19.JPG')\n",
        "print(test_images)\n",
        "for fname in test_images:\n",
        "    print(fname)\n",
        "    test_img=mpimg.imread(fname)\n",
        "    plt.imshow(test_img)\n",
        "    #plt.subplot(6,1,i)\n",
        "    boxes=find_roots(test_img, ystart, ystop, scale, pix_per_cell,cell_per_block ) #, clf, X_scaler, orient, pix_per_cell, cell_per_block,color_space,spatial_size, hist_bins)\n",
        "    #print(boxes[0][0])\n",
        "    test_out_img=draw_boxes(test_img,boxes)\n",
        "    plt.imshow(test_out_img)\n",
        "    plt.show()"
      ],
      "execution_count": 33,
      "outputs": [
        {
          "output_type": "stream",
          "text": [
            "['trainingData/Crack/Capture19.JPG']\n",
            "trainingData/Crack/Capture19.JPG\n",
            "1\n"
          ],
          "name": "stdout"
        },
        {
          "output_type": "display_data",
          "data": {
            "image/png": "[encoded data removed]",
            "text/plain": [
              "<matplotlib.figure.Figure at 0x7f35bb955b90>"
            ]
          },
          "metadata": {
            "tags": []
          }
        }
      ]
    },
    {
      "metadata": {
        "id": "AI0e1H8lU0st",
        "colab_type": "code",
        "colab": {}
      },
      "cell_type": "code",
      "source": [
        ""
      ],
      "execution_count": 0,
      "outputs": []
    }
  ]
}